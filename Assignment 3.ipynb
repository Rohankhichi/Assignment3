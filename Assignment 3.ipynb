{
 "cells": [
  {
   "cell_type": "markdown",
   "id": "b6b1f01c-7daa-441f-97ec-8f5a58f65797",
   "metadata": {},
   "source": [
    "Q1. Which keyword is used to create a function? Create a function to return a list of odd numbers in the\n",
    "range of 1 to 25."
   ]
  },
  {
   "cell_type": "code",
   "execution_count": 4,
   "id": "5259ceec-bdcb-4c0b-a5a4-a9ab29376939",
   "metadata": {},
   "outputs": [],
   "source": [
    "#Ans1\n",
    "def func(x,y):\n",
    "    return x+y"
   ]
  },
  {
   "cell_type": "code",
   "execution_count": 8,
   "id": "746b7911-dcb2-4aa0-a9bc-9abba768ab60",
   "metadata": {},
   "outputs": [],
   "source": [
    "l = list(range(1,26))"
   ]
  },
  {
   "cell_type": "code",
   "execution_count": 14,
   "id": "5ca1be74-a3bb-4358-bb6d-43a44b931588",
   "metadata": {},
   "outputs": [
    {
     "data": {
      "text/plain": [
       "[3, 6, 9, 12, 15, 18, 21, 24]"
      ]
     },
     "execution_count": 14,
     "metadata": {},
     "output_type": "execute_result"
    }
   ],
   "source": [
    "list(filter(lambda x : x %3==0,l))"
   ]
  },
  {
   "cell_type": "markdown",
   "id": "6b99c991-4d34-438a-af8f-a8c20480b58b",
   "metadata": {},
   "source": [
    "Q2. Why *args and **kwargs is used in some functions? Create a function each for *args and **kwargs\n",
    "to demonstrate their use."
   ]
  },
  {
   "cell_type": "code",
   "execution_count": 1,
   "id": "9c2e7573-8693-44ff-ad07-eba5132b0744",
   "metadata": {},
   "outputs": [],
   "source": [
    "#Ans2\n",
    "def test(*hello,world):\n",
    "    return args\n",
    "#endless data you can store\n",
    "\n",
    "def test1(**helloworld):\n",
    "    return kwargs\n",
    "# you can store key and value in a pair"
   ]
  },
  {
   "cell_type": "code",
   "execution_count": 15,
   "id": "92c20fa4-ca90-4f3d-8d94-60acec811cc4",
   "metadata": {},
   "outputs": [
    {
     "data": {
      "text/plain": [
       "[2, 4, 6, 8, 10, 12]"
      ]
     },
     "execution_count": 15,
     "metadata": {},
     "output_type": "execute_result"
    }
   ],
   "source": [
    "#Q3. What is an iterator in python? Name the method used to initialise the iterator object and the method\n",
    "#used for iteration. Use these methods to print the first five elements of the given list [2, 4, 6, 8, 10, 12, 14,\n",
    "#16, 18, 20].\n",
    "\n",
    "#Ans 3 An iterable is any object in Python that can be looped over. It is a general term used to describe objects that can \n",
    "#return an iterator. Examples of iterables include lists, tuples, strings, dictionaries, and sets.\n",
    "\n",
    "l = [2, 4, 6, 8, 10, 12, 14,16,18,20]\n",
    "list(iter(l))\n",
    "l[0:6]"
   ]
  },
  {
   "cell_type": "code",
   "execution_count": 18,
   "id": "892978f7-80db-42b1-93bc-bd7cfdc47488",
   "metadata": {},
   "outputs": [],
   "source": [
    "#Q4. What is a generator function in python? Why yield keyword is used? Give an example of a generator\n",
    "#function.\n",
    "#Ans4 Generator Function is just a function who generate object repeadly.\n",
    "# yield keyword is used to make generator function\n",
    "def gen_fib(n):\n",
    "    a,b = 0,1\n",
    "    for i in range(n):\n",
    "        yield a\n",
    "        a,b = b, a+b"
   ]
  },
  {
   "cell_type": "code",
   "execution_count": null,
   "id": "a15e0f08-18f0-493b-bfe6-a95112f892b2",
   "metadata": {},
   "outputs": [],
   "source": [
    "#Q5. Create a generator function for prime numbers less than 1000. Use the next() method to print the\n",
    "#first 20 prime numbers.\n"
   ]
  },
  {
   "cell_type": "code",
   "execution_count": 19,
   "id": "f90650ed-4473-4be7-bc46-9c068f6bba56",
   "metadata": {},
   "outputs": [],
   "source": [
    "#Q6. Write a python program to print the first 10 Fibonacci numbers using a while loop.\n",
    "def gen_fib(n):\n",
    "    a,b = 0,1\n",
    "    while True:\n",
    "        yield a\n",
    "        a,b = b, a+b"
   ]
  },
  {
   "cell_type": "code",
   "execution_count": 24,
   "id": "9bff6c91-418c-43ce-9794-8090bac6fa96",
   "metadata": {},
   "outputs": [],
   "source": [
    "fib = gen_fib(10)"
   ]
  },
  {
   "cell_type": "code",
   "execution_count": 27,
   "id": "aade2a8a-7095-4645-82e3-f748524d1a2a",
   "metadata": {},
   "outputs": [
    {
     "name": "stdout",
     "output_type": "stream",
     "text": [
      "0\n",
      "1\n",
      "1\n",
      "2\n",
      "3\n",
      "5\n",
      "8\n",
      "13\n",
      "21\n",
      "34\n"
     ]
    }
   ],
   "source": [
    "for i in range(10):\n",
    "    print(next(fib))"
   ]
  },
  {
   "cell_type": "code",
   "execution_count": 28,
   "id": "b979e5d6-ad25-46ca-872f-a8da70b2e646",
   "metadata": {},
   "outputs": [],
   "source": [
    "#Q7. Write a List Comprehension to iterate through the given string: ‘pwskills’.\n",
    "#Expected output: ['p', 'w', 's', 'k', 'i', 'l', 'l', 's']\n",
    "p = 'pwskills'"
   ]
  },
  {
   "cell_type": "code",
   "execution_count": 33,
   "id": "db6dc1b3-5a0f-4792-9057-4fb29f243156",
   "metadata": {},
   "outputs": [
    {
     "data": {
      "text/plain": [
       "['P', 'W', 'S', 'K', 'I', 'L', 'L', 'S']"
      ]
     },
     "execution_count": 33,
     "metadata": {},
     "output_type": "execute_result"
    }
   ],
   "source": [
    "list(map(lambda a: a.upper(), p))"
   ]
  },
  {
   "cell_type": "markdown",
   "id": "2a9b0b24-0b2c-47a9-a809-dbe8064989b6",
   "metadata": {},
   "source": [
    "Q8. Write a python program to check whether a given number is Palindrome or not using a while loop.\n"
   ]
  },
  {
   "cell_type": "code",
   "execution_count": 36,
   "id": "8b15058f-62c5-466d-a46d-9fad5c8d7833",
   "metadata": {},
   "outputs": [],
   "source": [
    "#Q9. Write a code to print odd numbers from 1 to 100 using list comprehension.\n",
    "#Note: Use a list comprehension to create a list from 1 to 100 and use another List comprehension to filter\n",
    "#out odd numbers.\n",
    "\n",
    "#Ans 9\n",
    "l = list(range(101))"
   ]
  },
  {
   "cell_type": "code",
   "execution_count": 38,
   "id": "041cea0d-732d-4618-8883-e3f6f2e8575a",
   "metadata": {},
   "outputs": [],
   "source": [
    "from functools import reduce"
   ]
  },
  {
   "cell_type": "code",
   "execution_count": 41,
   "id": "9ea1bb25-7299-436a-8f17-438ddbe7a250",
   "metadata": {},
   "outputs": [
    {
     "data": {
      "text/plain": [
       "False"
      ]
     },
     "execution_count": 41,
     "metadata": {},
     "output_type": "execute_result"
    }
   ],
   "source": [
    "reduce(lambda x,y : x>y, l)"
   ]
  },
  {
   "cell_type": "code",
   "execution_count": 43,
   "id": "ad89a6b0-de3f-47c6-b221-0da01652f70e",
   "metadata": {},
   "outputs": [
    {
     "data": {
      "text/plain": [
       "[0,\n",
       " 3,\n",
       " 6,\n",
       " 9,\n",
       " 12,\n",
       " 15,\n",
       " 18,\n",
       " 21,\n",
       " 24,\n",
       " 27,\n",
       " 30,\n",
       " 33,\n",
       " 36,\n",
       " 39,\n",
       " 42,\n",
       " 45,\n",
       " 48,\n",
       " 51,\n",
       " 54,\n",
       " 57,\n",
       " 60,\n",
       " 63,\n",
       " 66,\n",
       " 69,\n",
       " 72,\n",
       " 75,\n",
       " 78,\n",
       " 81,\n",
       " 84,\n",
       " 87,\n",
       " 90,\n",
       " 93,\n",
       " 96,\n",
       " 99]"
      ]
     },
     "execution_count": 43,
     "metadata": {},
     "output_type": "execute_result"
    }
   ],
   "source": [
    "list(filter(lambda x : x % 3 == 0, l))"
   ]
  },
  {
   "cell_type": "code",
   "execution_count": null,
   "id": "547ecec4-e60a-4b9e-ba61-820d361093c2",
   "metadata": {},
   "outputs": [],
   "source": []
  }
 ],
 "metadata": {
  "kernelspec": {
   "display_name": "Python 3 (ipykernel)",
   "language": "python",
   "name": "python3"
  },
  "language_info": {
   "codemirror_mode": {
    "name": "ipython",
    "version": 3
   },
   "file_extension": ".py",
   "mimetype": "text/x-python",
   "name": "python",
   "nbconvert_exporter": "python",
   "pygments_lexer": "ipython3",
   "version": "3.10.8"
  }
 },
 "nbformat": 4,
 "nbformat_minor": 5
}
